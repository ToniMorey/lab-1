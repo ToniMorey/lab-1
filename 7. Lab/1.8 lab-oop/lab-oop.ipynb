{
 "cells": [
  {
   "cell_type": "markdown",
   "metadata": {},
   "source": [
    "# OOP\n",
    "\n",
    "In this lab we will put into practice what we have seen in class.\n",
    "\n",
    "`NOTE: It is split in two different Exercise: Do NOT try to change the order as the idea is to build a class from scratch using all the steps on each exercise` \n",
    "\n",
    "Good Luck! "
   ]
  },
  {
   "cell_type": "markdown",
   "metadata": {},
   "source": [
    "## Exercise 1: Car Class\n",
    "\n",
    "Use the origina code below to start with the exercise: "
   ]
  },
  {
   "cell_type": "code",
   "execution_count": 1,
   "metadata": {
    "tags": []
   },
   "outputs": [],
   "source": [
    "class Car:\n",
    "    def __init__(self, color): \n",
    "        self.color = color"
   ]
  },
  {
   "cell_type": "markdown",
   "metadata": {},
   "source": [
    "### 1.1: Basic Info\n",
    "\n",
    "- This class Car is incomplete. We need to have more attributes, in this case we will need the user to add the Brand of the car (p.e. Fiat, Volvo, etc\") and the number of wheels (always 4). Build the first function called info, where it should print all the information of the car.\n",
    "- Try using the upper, capitalize or lower methods of strings to make the print look realistic. "
   ]
  },
  {
   "cell_type": "code",
   "execution_count": 4,
   "metadata": {
    "tags": []
   },
   "outputs": [],
   "source": [
    "# Your Code here\n",
    "class Car:\n",
    "    def __init__(self, color, brand, wheels = 4):\n",
    "        self.color = color\n",
    "        self.brand = brand\n",
    "        self.wheels = wheels\n",
    "    def info(self):\n",
    "        print(f\"color is {self.color}\")\n",
    "        print(f\"Brand is {self.brand}\")\n",
    "        print(f\"nº wheels {self.wheels}\")"
   ]
  },
  {
   "cell_type": "code",
   "execution_count": 5,
   "metadata": {
    "tags": []
   },
   "outputs": [
    {
     "name": "stdout",
     "output_type": "stream",
     "text": [
      "color is red\n",
      "Brand is BMW\n",
      "nº wheels 4\n"
     ]
    }
   ],
   "source": [
    "# try your code with this example\n",
    "bmw=Car(\"red\", \"BMW\")\n",
    "bmw.info()"
   ]
  },
  {
   "cell_type": "markdown",
   "metadata": {},
   "source": [
    "### 1.2: Turn On/Off\n",
    "\n",
    "- Set a new attribute called `engine`. In it there will only be two options, ON and OFF. Originally, this new attribute will be OFF as the car engine will be OFF. \n",
    "- Create two more methods called `encender` and `apagar`. Take into consideration that if the car is ON and you try the encender, a message should be printed: \"No se puede encender "
   ]
  },
  {
   "cell_type": "code",
   "execution_count": 54,
   "metadata": {
    "tags": []
   },
   "outputs": [],
   "source": [
    "# Your Code here: \n",
    "class Car:\n",
    "    def __init__(self, color, brand, wheels = 4):\n",
    "        self.color = color\n",
    "        self.brand = brand\n",
    "        self.wheels = wheels\n",
    "        self.engine = \"OFF\"\n",
    "        \n",
    "    def encender(self):\n",
    "        if self.engine == \"OFF\":\n",
    "            self.engine = \"ON\"\n",
    "            return \"Motor encendido\"\n",
    "        else:\n",
    "            return \"Motor ya encendido\"\n",
    "        \n",
    "    def apagar(self):\n",
    "        if self.engine == \"ON\":\n",
    "            self.engine = \"OFF\"\n",
    "            return \"Motor apagado\"\n",
    "        else:\n",
    "            return \"Motor ya apagado\"\n",
    "        \n",
    "    def info(self):\n",
    "        print(f\"color is {self.color}\")\n",
    "        print(f\"Brand is {self.brand}\")\n",
    "        print(f\"nº wheels {self.wheels}\")\n",
    "        print(f\"engine status {self.engine}\")"
   ]
  },
  {
   "cell_type": "code",
   "execution_count": 55,
   "metadata": {
    "tags": []
   },
   "outputs": [
    {
     "name": "stdout",
     "output_type": "stream",
     "text": [
      "Motor encendido\n",
      "Motor ya encendido\n",
      "Motor apagado\n",
      "color is red\n",
      "Brand is BMW\n",
      "nº wheels 4\n",
      "engine status OFF\n",
      "None\n"
     ]
    }
   ],
   "source": [
    "#Try the method a couple of times to see if the behaviour of the car is working well (p.e. dos veces función encendida o 2 veces función apagada)\n",
    "bmw=Car(\"red\", \"BMW\")\n",
    "print(bmw.encender())\n",
    "print(bmw.encender())\n",
    "\n",
    "print(bmw.apagar())\n",
    "print(bmw.info())#No se por qué me devuelve \"none\" al final del ejecutable"
   ]
  },
  {
   "cell_type": "markdown",
   "metadata": {},
   "source": [
    "### 1.3 Accelerate/reduce/break\n",
    "\n",
    "Here we are going to set a new attribute: `speed`. The original speed of each vehicle must be 0. We will then add three methods: acelerar, reducir and frenar. `acelerar` will increase the speed, `reducir` will reduce it and `frenar` will take it back to 0 again. \n",
    "Extra conditions: \n",
    "\n",
    "Try tu use the logic to know some basic interactions between this methods and the methods seen in 1.2. First try it yourself before revealing the hidden information!\n",
    "\n",
    "\n",
    "<details>\n",
    "    <summary> Expand the box to see the logic between methods </summary>\n",
    "    \n",
    "- The engine must be ON to use this 3 new method\n",
    "\n",
    "- If the speed is different to 0, you can not use the `apagar` method\n",
    "\n",
    "- If you use `reducir` to a number that makes the speed in negative numbers, you can not use reducir.  \n",
    "\n",
    "- To avoid using the `__dict__`, add the speed and the engine state as new info in the `info` method\n",
    "\n",
    "- For both `acelerar` and `reducir`, everytime you use this method you must send an argument (how much is the car accelerating and reducing everytime you call this function)\n",
    "\n",
    "</details>\n"
   ]
  },
  {
   "cell_type": "code",
   "execution_count": 69,
   "metadata": {
    "tags": []
   },
   "outputs": [],
   "source": [
    "# Your Code here: \n",
    "class Car:\n",
    "    def __init__(self, color, brand):\n",
    "        self.color = color\n",
    "        self.brand = brand\n",
    "        self.wheels = 4\n",
    "        self.engine = \"OFF\"\n",
    "        self.speed = 0\n",
    "        \n",
    "    def encender(self):\n",
    "        if self.engine == \"OFF\":\n",
    "            self.engine = \"ON\"\n",
    "            return \"Motor encendido\"\n",
    "        else:\n",
    "            return \"Motor ya encendido\"\n",
    "        \n",
    "    def apagar(self):\n",
    "        if self.engine == \"ON\":\n",
    "            self.engine = \"OFF\"\n",
    "            return \"Motor apagado\"\n",
    "        else:\n",
    "            return \"Motor ya apagado\"\n",
    "         \n",
    "    def acelerar(self, velocidad_acelerada):\n",
    "        self.velocidad_acelerada = velocidad_acelerada\n",
    "        if self.engine == \"OFF\":\n",
    "            return \"Enciende coche primero\"\n",
    "        elif self.velocidad_acelerada + self.speed > 200:\n",
    "            return \"Demasiado rápido, no se puede acelerar tanto\"\n",
    "        else:\n",
    "            self.speed +=self.velocidad_acelerada\n",
    "            return f\" acelerando a {self.speed}\"\n",
    "                           \n",
    "    def reducir(self, velocidad_reducida):\n",
    "        self.velocidad_reducida = velocidad_reducida\n",
    "        if self.engine == \"OFF\":\n",
    "            return \"Enciende coche primero\"\n",
    "        elif self.speed - velocidad_reducida < 0:\n",
    "            return \"No se puede reducir tanto.\"\n",
    "        else:\n",
    "            self.speed -=self.velocidad_reducida\n",
    "            return f\" reduciendo a {self.speed}\"\n",
    "        \n",
    "    def frenar(self):\n",
    "        if self.engine == \"OFF\":\n",
    "            return \"Coche apagado, no puede frenar\"\n",
    "        elif self.speed == 0:\n",
    "            return \"coche ya frenado\"\n",
    "        else:\n",
    "            self.speed = 0\n",
    "            return f\"Velocidad reducida a {self.speed}\"\n",
    "        \n",
    "    def info(self):\n",
    "        print(f\"color is {self.color}\")\n",
    "        print(f\"Brand is {self.brand}\")\n",
    "        print(f\"nº wheels {self.wheels}\")\n",
    "        print(f\"engine status {self.engine}\")\n",
    "        print(f\"velocidad actual {self.speed}\")"
   ]
  },
  {
   "cell_type": "code",
   "execution_count": 72,
   "metadata": {
    "tags": []
   },
   "outputs": [
    {
     "name": "stdout",
     "output_type": "stream",
     "text": [
      "color is rojo\n",
      "Brand is BMW\n",
      "nº wheels 4\n",
      "engine status OFF\n",
      "velocidad actual 0\n"
     ]
    }
   ],
   "source": [
    "#Try combos with this same car!\n",
    "bmw=Car(\"rojo\", \"BMW\")\n",
    "bmw.info()\n"
   ]
  },
  {
   "cell_type": "code",
   "execution_count": 73,
   "metadata": {
    "tags": []
   },
   "outputs": [
    {
     "name": "stdout",
     "output_type": "stream",
     "text": [
      "color is rojo\n",
      "Brand is BMW\n",
      "nº wheels 4\n",
      "engine status OFF\n",
      "velocidad actual 0\n",
      "None\n",
      "Motor encendido\n",
      " acelerando a 5\n",
      " reduciendo a 1\n",
      "color is rojo\n",
      "Brand is BMW\n",
      "nº wheels 4\n",
      "engine status ON\n",
      "velocidad actual 1\n",
      "None\n",
      "Motor apagado\n",
      "Coche apagado, no puede frenar\n",
      "Motor ya apagado\n"
     ]
    }
   ],
   "source": [
    "#Try all the combinations you like and see if it works!\n",
    "\n",
    "print(bmw.info())\n",
    "print(bmw.encender())\n",
    "print(bmw.acelerar(5))\n",
    "print(bmw.reducir(4))\n",
    "print(bmw.info())\n",
    "print(bmw.apagar())\n",
    "print(bmw.frenar())\n",
    "print(bmw.apagar())"
   ]
  },
  {
   "cell_type": "markdown",
   "metadata": {},
   "source": [
    "### 1.4 Maximum Speed\n",
    "\n",
    "We will now set a new parameter the user should introduce: `max_speed`. If the user do NOT set this parameter, the **default value** should be 120\n",
    "\n",
    "(the code should work for both Car(\"blue\", \"FIAT\") and Car(\"purple\", \"Mini\", 130) )\n",
    "\n",
    "The only thing that must change from the previous code is that your speed can NEVER be over the limit of the car. If you try to accelerate more, the speed of the car will be max_speed. "
   ]
  },
  {
   "cell_type": "code",
   "execution_count": 74,
   "metadata": {
    "tags": []
   },
   "outputs": [],
   "source": [
    "# Your Code here: \n",
    "\n",
    "class Car:\n",
    "    def __init__(self, color, brand, max_speed = 120):\n",
    "        self.color = color\n",
    "        self.brand = brand\n",
    "        self.wheels = 4\n",
    "        self.engine = \"OFF\"\n",
    "        self.speed = 0\n",
    "        self.max_speed = max_speed\n",
    "        \n",
    "    def encender(self):\n",
    "        if self.engine == \"OFF\":\n",
    "            self.engine = \"ON\"\n",
    "            return \"Motor encendido\"\n",
    "        else:\n",
    "            return \"Motor ya encendido\"\n",
    "        \n",
    "    def apagar(self):\n",
    "        if self.engine == \"ON\":\n",
    "            self.engine = \"OFF\"\n",
    "            return \"Motor apagado\"\n",
    "        else:\n",
    "            return \"Motor ya apagado\"\n",
    "         \n",
    "    def acelerar(self, velocidad_acelerada):\n",
    "        self.velocidad_acelerada = velocidad_acelerada\n",
    "        if self.engine == \"OFF\":\n",
    "            return \"Enciende coche primero\"\n",
    "        elif self.velocidad_acelerada + self.speed > self.max_speed:\n",
    "            return \"Demasiado rápido, no se puede acelerar tanto\"\n",
    "        else:\n",
    "            self.speed +=self.velocidad_acelerada\n",
    "            return f\" acelerando a {self.speed}\"\n",
    "                           \n",
    "    def reducir(self, velocidad_reducida):\n",
    "        self.velocidad_reducida = velocidad_reducida\n",
    "        if self.engine == \"OFF\":\n",
    "            return \"Enciende coche primero\"\n",
    "        elif self.speed - velocidad_reducida < 0:\n",
    "            return \"No se puede reducir tanto.\"\n",
    "        else:\n",
    "            self.speed -=self.velocidad_reducida\n",
    "            return f\" reduciendo a {self.speed}\"\n",
    "        \n",
    "    def frenar(self):\n",
    "        if self.engine == \"OFF\":\n",
    "            return \"Coche apagado, no puede frenar\"\n",
    "        elif self.speed == 0:\n",
    "            return \"coche ya frenado\"\n",
    "        else:\n",
    "            self.speed = 0\n",
    "            return f\"Velocidad reducida a {self.speed}\"\n",
    "        \n",
    "    def info(self):\n",
    "        print(f\"color is {self.color}\")\n",
    "        print(f\"Brand is {self.brand}\")\n",
    "        print(f\"nº wheels {self.wheels}\")\n",
    "        print(f\"engine status {self.engine}\")\n",
    "        print(f\"velocidad actual {self.speed}\")"
   ]
  },
  {
   "cell_type": "code",
   "execution_count": 80,
   "metadata": {
    "tags": []
   },
   "outputs": [
    {
     "data": {
      "text/plain": [
       "'Demasiado rápido, no se puede acelerar tanto'"
      ]
     },
     "execution_count": 80,
     "metadata": {},
     "output_type": "execute_result"
    }
   ],
   "source": [
    "#try the code here: \n",
    "fiat=Car(\"red\", \"Fiat\", 130)\n",
    "fiat.encender()\n",
    "fiat.acelerar(140)\n"
   ]
  },
  {
   "cell_type": "markdown",
   "metadata": {},
   "source": [
    "## Exercise 2: Inheritance\n",
    "\n",
    "Let's recover this example set in our class: "
   ]
  },
  {
   "cell_type": "code",
   "execution_count": 3,
   "metadata": {},
   "outputs": [],
   "source": [
    "class Staff ():\n",
    "        \n",
    "    def __init__ (self, name, fname):\n",
    "        self.name = name.capitalize()\n",
    "        self.fname = fname\n",
    "        \n",
    "        # Default\n",
    "        self.time_off = 20\n",
    "        \n",
    "        #Default: as a result\n",
    "        self.email = self.name.lower() + \".\" + self.fname.lower() + \"@ironhack.com\"\n",
    "        \n",
    "        self.hobbies = []\n",
    "        \n",
    "    \n",
    "    def introduce (self):\n",
    "        return f\"Hello, my name is {self.name}!\"\n",
    "    \n",
    "    def takes_days_off (self, number):\n",
    "        if self.time_off-number >= 0:\n",
    "            self.time_off -= number\n",
    "            return f\"Now you have {self.time_off} days off available\"\n",
    "        else:\n",
    "            return f\"Sorry, you ran out of days. Your total time_off available is {self.time_off}\"\n",
    "    \n",
    "    def hobbies_function (self, *hob): #passing an optional argument\n",
    "        if hob:\n",
    "            for i in hob:\n",
    "                self.hobbies.append(i)\n",
    "                print(f\"We added: {self.hobbies[-1]}\")\n",
    "            return self.hobbies_function()\n",
    "        else:\n",
    "            new = \", \".join([i for i in self.hobbies])\n",
    "            return f\"My hobbies are: {new}\""
   ]
  },
  {
   "cell_type": "markdown",
   "metadata": {},
   "source": [
    "### 2.1 Class Variable\n",
    "\n",
    "Create a class variable (attribute shared by everybody in the organization). This class variable will `company`, and it should be always **Ironhack**"
   ]
  },
  {
   "cell_type": "code",
   "execution_count": 4,
   "metadata": {
    "tags": []
   },
   "outputs": [],
   "source": [
    "# Your code here: \n",
    "class Staff ():\n",
    "    company = \"Ironhack\"\n",
    "    def __init__ (self, name, fname):\n",
    "        self.name = name.capitalize()\n",
    "        self.fname = fname\n",
    "        \n",
    "        # Default\n",
    "        self.time_off = 20\n",
    "        \n",
    "        #Default: as a result\n",
    "        self.email = self.name.lower() + \".\" + self.fname.lower() + \"@ironhack.com\"\n",
    "        \n",
    "        self.hobbies = []\n",
    "        \n",
    "    \n",
    "    def introduce (self):\n",
    "        return f\"Hello, my name is {self.name}!\"\n",
    "    \n",
    "    def takes_days_off (self, number):\n",
    "        if self.time_off-number >= 0:\n",
    "            self.time_off -= number\n",
    "            return f\"Now you have {self.time_off} days off available\"\n",
    "        else:\n",
    "            return f\"Sorry, you ran out of days. Your total time_off available is {self.time_off}\"\n",
    "    \n",
    "    def hobbies_function (self, *hob): #passing an optional argument\n",
    "        if hob:\n",
    "            for i in hob:\n",
    "                self.hobbies.append(i)\n",
    "                print(f\"We added: {self.hobbies[-1]}\")\n",
    "            return self.hobbies_function()\n",
    "        else:\n",
    "            new = \", \".join([i for i in self.hobbies])\n",
    "            return f\"My hobbies are: {new}\""
   ]
  },
  {
   "cell_type": "markdown",
   "metadata": {},
   "source": [
    "### 1.2 Info Method\n",
    "\n",
    "As in the previous exercise, set a method to know all the information related with each person: Name, Surname, Time_Off Available, Mail, hobbies and Company"
   ]
  },
  {
   "cell_type": "code",
   "execution_count": 5,
   "metadata": {
    "tags": []
   },
   "outputs": [],
   "source": [
    "# Your code here\n",
    "class Staff ():\n",
    "    company = \"Ironhack\"\n",
    "    def __init__ (self, name, fname):\n",
    "        self.name = name.capitalize()\n",
    "        self.fname = fname\n",
    "        \n",
    "        # Default\n",
    "        self.time_off = 20\n",
    "        \n",
    "        #Default: as a result\n",
    "        self.email = self.name.lower() + \".\" + self.fname.lower() + \"@ironhack.com\"\n",
    "        \n",
    "        self.hobbies = []\n",
    "        \n",
    "    \n",
    "    def introduce (self):\n",
    "        return f\"Hello, my name is {self.name}!\"\n",
    "    \n",
    "    def takes_days_off (self, number):\n",
    "        if self.time_off-number >= 0:\n",
    "            self.time_off -= number\n",
    "            return f\"Now you have {self.time_off} days off available\"\n",
    "        else:\n",
    "            return f\"Sorry, you ran out of days. Your total time_off available is {self.time_off}\"\n",
    "    \n",
    "    def hobbies_function (self, *hob): #passing an optional argument\n",
    "        if hob:\n",
    "            for i in hob:\n",
    "                self.hobbies.append(i)\n",
    "                print(f\"We added: {self.hobbies[-1]}\")\n",
    "            return self.hobbies_function()\n",
    "        else:\n",
    "            new = \", \".join([i for i in self.hobbies])\n",
    "            return f\"My hobbies are: {new}\"\n",
    "        \n",
    "    def info(self):\n",
    "        print(f\"name: {self.name} surname: {self.fname}\")\n",
    "        print(f\"email: {self.email}\")\n",
    "        print(f\"remaning holydays: {self.time_off}\")\n",
    "        print(f\"hobbies: {self.hobbies}\")"
   ]
  },
  {
   "cell_type": "code",
   "execution_count": 6,
   "metadata": {
    "tags": []
   },
   "outputs": [
    {
     "name": "stdout",
     "output_type": "stream",
     "text": [
      "We added: Basketball\n",
      "We added: Board Games\n",
      "We added: Coding\n",
      "name: Gonzalo surname: Quesada\n",
      "email: gonzalo.quesada@ironhack.com\n",
      "remaning holydays: 15\n",
      "hobbies: ['Basketball', 'Board Games', 'Coding']\n"
     ]
    }
   ],
   "source": [
    "# Try it here!!\n",
    "\n",
    "bestteacherever=Staff(\"Gonzalo\", \"Quesada\")\n",
    "bestteacherever.hobbies_function(\"Basketball\", \"Board Games\", \"Coding\")\n",
    "bestteacherever.takes_days_off(5)\n",
    "bestteacherever.info()"
   ]
  },
  {
   "cell_type": "markdown",
   "metadata": {},
   "source": [
    "### 1.3 Inheritance\n",
    "\n",
    "Now suppose the Marketing department works differently, but inside the organization. In other words, Staff will be the Parent Class and Marketing the Child. The differences are: \n",
    "\n",
    "- The mail must end with .mktg (for example, instead of laura.molas@ironhack.com it should be laura.molas.mktg@ironhack.com)\n",
    "- The total days they have of time_off is 30 (Lucky them...)\n",
    "- In addition, in the `introduce` method, they should salute the same as in Staff BUT adding that they are from the Marketing dpt. "
   ]
  },
  {
   "cell_type": "code",
   "execution_count": 12,
   "metadata": {},
   "outputs": [],
   "source": [
    "# Your code here: ME FALTA\n",
    "class Marketing(Staff):\n",
    "    def __init__ (self, name, fname):\n",
    "        super().__init__(name,fname)\n",
    "                \n",
    "        self.time_off = 30\n",
    "        \n",
    "        self.email = self.name.lower() + \".\" + self.fname.lower() +\".mktg@ironhack.com\"\n",
    "        \n",
    "        self.hobbies = []\n",
    "        \n",
    "    def introduce (self):\n",
    "        return f\"Hello, my name is {self.name} and i'm from mktg department!\""
   ]
  },
  {
   "cell_type": "code",
   "execution_count": 13,
   "metadata": {},
   "outputs": [
    {
     "name": "stdout",
     "output_type": "stream",
     "text": [
      "We added: Photography\n",
      "We added: Animals\n",
      "name: Laura surname: Molas\n",
      "email: laura.molas.mktg@ironhack.com\n",
      "remaning holydays: 30\n",
      "hobbies: ['Photography', 'Animals']\n"
     ]
    },
    {
     "data": {
      "text/plain": [
       "\"Hello, my name is Laura and i'm from mktg department!\""
      ]
     },
     "execution_count": 13,
     "metadata": {},
     "output_type": "execute_result"
    }
   ],
   "source": [
    "#Try if your Class is well defined with this example: \n",
    "mktg=Marketing(\"Laura\", \"Molas\")\n",
    "mktg.hobbies_function(\"Photography\", \"Animals\")\n",
    "mktg.info()\n",
    "mktg.introduce()"
   ]
  },
  {
   "cell_type": "code",
   "execution_count": null,
   "metadata": {},
   "outputs": [],
   "source": []
  }
 ],
 "metadata": {
  "kernelspec": {
   "display_name": "Python 3 (ipykernel)",
   "language": "python",
   "name": "python3"
  },
  "language_info": {
   "codemirror_mode": {
    "name": "ipython",
    "version": 3
   },
   "file_extension": ".py",
   "mimetype": "text/x-python",
   "name": "python",
   "nbconvert_exporter": "python",
   "pygments_lexer": "ipython3",
   "version": "3.11.5"
  }
 },
 "nbformat": 4,
 "nbformat_minor": 4
}
