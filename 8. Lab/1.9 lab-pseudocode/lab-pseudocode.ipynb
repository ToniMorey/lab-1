{
 "cells": [
  {
   "cell_type": "markdown",
   "metadata": {},
   "source": [
    "# PSEUDOCODE\n",
    "\n",
    "(Please dont kill me)"
   ]
  },
  {
   "cell_type": "markdown",
   "metadata": {},
   "source": [
    "In this lab, you will work to find any solution(hopefully the easiest) to complete this exercises. \n",
    "\n",
    "The second 1 is a BONUS\n",
    "\n",
    "Any further question please ask me or Sandra"
   ]
  },
  {
   "cell_type": "markdown",
   "metadata": {},
   "source": [
    "## EXERCISE 1: RANDOM GUESS OF A NUMBER\n",
    "\n",
    "The user must give you the start and final number. Your code must be developed to select a random number between this 2. If your selection is too high/low you must give a hint to the user: The number is too high/low. Finally, when the user selects the correct number you must return a \"Congratulations etc\" and the number of guesses needed to find the number. \n",
    "\n",
    "IF YOU TRY IT AND YOU FIND THE NUMBER FIRST GUESS, PLEASE SEND A SCREENSHOT VIA SLACK `(MANDATORY)`"
   ]
  },
  {
   "cell_type": "code",
   "execution_count": 7,
   "metadata": {
    "tags": []
   },
   "outputs": [
    {
     "name": "stdin",
     "output_type": "stream",
     "text": [
      "make your guess:  11\n"
     ]
    },
    {
     "name": "stdout",
     "output_type": "stream",
     "text": [
      "Fail\n"
     ]
    },
    {
     "name": "stdin",
     "output_type": "stream",
     "text": [
      "make your guess:  12\n"
     ]
    },
    {
     "name": "stdout",
     "output_type": "stream",
     "text": [
      "Fail\n"
     ]
    },
    {
     "name": "stdin",
     "output_type": "stream",
     "text": [
      "make your guess:  13\n"
     ]
    },
    {
     "name": "stdout",
     "output_type": "stream",
     "text": [
      "Fail\n"
     ]
    },
    {
     "name": "stdin",
     "output_type": "stream",
     "text": [
      "make your guess:  14\n"
     ]
    },
    {
     "name": "stdout",
     "output_type": "stream",
     "text": [
      "Fail\n"
     ]
    },
    {
     "name": "stdin",
     "output_type": "stream",
     "text": [
      "make your guess:  15\n"
     ]
    },
    {
     "name": "stdout",
     "output_type": "stream",
     "text": [
      "Fail\n"
     ]
    },
    {
     "name": "stdin",
     "output_type": "stream",
     "text": [
      "make your guess:  16\n"
     ]
    },
    {
     "name": "stdout",
     "output_type": "stream",
     "text": [
      "Congrats\n",
      "Attempts: 6\n"
     ]
    }
   ],
   "source": [
    "def guess(number1, number2):\n",
    "\n",
    "    import random\n",
    "    \n",
    "    guess_numbers = [range(number1, number2)]\n",
    "    number_to_guess = random.choice(range(number1, number2))\n",
    "    number_of_guesses = 1\n",
    "    user = int(input(\"make your guess: \"))\n",
    "   \n",
    "    while user != number_to_guess:\n",
    "        number_of_guesses+=1\n",
    "        print(\"Fail\")\n",
    "        user = int(input(\"make your guess: \"))\n",
    "        \n",
    "    if user == number_to_guess:\n",
    "        print(\"Congrats\")\n",
    "        print(f\"Attempts: {number_of_guesses}\")\n",
    "    \n",
    "guess(10,20)#Pero quiero que si el número esta fuera del rango me vuelva a tirar "
   ]
  },
  {
   "cell_type": "code",
   "execution_count": 12,
   "metadata": {
    "tags": []
   },
   "outputs": [
    {
     "name": "stdin",
     "output_type": "stream",
     "text": [
      "make your guess:  30\n"
     ]
    },
    {
     "name": "stdout",
     "output_type": "stream",
     "text": [
      "Please, only numbers between 10 and 20\n"
     ]
    },
    {
     "name": "stdin",
     "output_type": "stream",
     "text": [
      "make your guess:  30\n"
     ]
    },
    {
     "name": "stdout",
     "output_type": "stream",
     "text": [
      "Please, only numbers between 10 and 20\n"
     ]
    },
    {
     "name": "stdin",
     "output_type": "stream",
     "text": [
      "make your guess:  12\n"
     ]
    },
    {
     "name": "stdout",
     "output_type": "stream",
     "text": [
      "Fail\n"
     ]
    },
    {
     "name": "stdin",
     "output_type": "stream",
     "text": [
      "make your guess:  13\n"
     ]
    },
    {
     "name": "stdout",
     "output_type": "stream",
     "text": [
      "Fail\n"
     ]
    },
    {
     "name": "stdin",
     "output_type": "stream",
     "text": [
      "make your guess:  14\n"
     ]
    },
    {
     "name": "stdout",
     "output_type": "stream",
     "text": [
      "Fail\n"
     ]
    },
    {
     "name": "stdin",
     "output_type": "stream",
     "text": [
      "make your guess:  15\n"
     ]
    },
    {
     "name": "stdout",
     "output_type": "stream",
     "text": [
      "Fail\n"
     ]
    },
    {
     "name": "stdin",
     "output_type": "stream",
     "text": [
      "make your guess:  16\n"
     ]
    },
    {
     "name": "stdout",
     "output_type": "stream",
     "text": [
      "Fail\n"
     ]
    },
    {
     "name": "stdin",
     "output_type": "stream",
     "text": [
      "make your guess:  30\n"
     ]
    },
    {
     "name": "stdout",
     "output_type": "stream",
     "text": [
      "Fail\n"
     ]
    },
    {
     "name": "stdin",
     "output_type": "stream",
     "text": [
      "make your guess:  16\n"
     ]
    },
    {
     "name": "stdout",
     "output_type": "stream",
     "text": [
      "Fail\n"
     ]
    },
    {
     "name": "stdin",
     "output_type": "stream",
     "text": [
      "make your guess:  17\n"
     ]
    },
    {
     "name": "stdout",
     "output_type": "stream",
     "text": [
      "Fail\n"
     ]
    },
    {
     "name": "stdin",
     "output_type": "stream",
     "text": [
      "make your guess:  18\n"
     ]
    },
    {
     "name": "stdout",
     "output_type": "stream",
     "text": [
      "Fail\n"
     ]
    },
    {
     "name": "stdin",
     "output_type": "stream",
     "text": [
      "make your guess:  19\n"
     ]
    }
   ],
   "source": [
    "def guess(number1, number2): #No me funciona bien\n",
    "\n",
    "    import random\n",
    "    \n",
    "    guess_numbers = [range(number1, number2+1)]\n",
    "    number_to_guess = random.choice(range(number1, number2))\n",
    "    number_of_guesses = 1\n",
    "    user = int(input(\"make your guess: \"))\n",
    "    \n",
    "    if user < number1 or user > number2:\n",
    "        print(f\"Please, only numbers between {number1} and {number2}\")\n",
    "        guess(number1, number2)\n",
    "    else:\n",
    "        if user == number_to_guess:\n",
    "            print(\"Congrats\")\n",
    "            print(f\"Attempts: {number_of_guesses}\")\n",
    "\n",
    "        while user != number_to_guess:\n",
    "            number_of_guesses+=1\n",
    "            print(\"Fail\")\n",
    "            user = int(input(\"make your guess: \"))\n",
    "    \n",
    "guess(10,20)"
   ]
  },
  {
   "cell_type": "code",
   "execution_count": 34,
   "metadata": {
    "tags": []
   },
   "outputs": [
    {
     "name": "stdin",
     "output_type": "stream",
     "text": [
      "make your guess:  30\n"
     ]
    },
    {
     "name": "stdout",
     "output_type": "stream",
     "text": [
      "Please, only numbers between 10 and 20\n"
     ]
    },
    {
     "name": "stdin",
     "output_type": "stream",
     "text": [
      "make your guess:  12\n"
     ]
    },
    {
     "name": "stdout",
     "output_type": "stream",
     "text": [
      "Fail\n"
     ]
    },
    {
     "name": "stdin",
     "output_type": "stream",
     "text": [
      "make your guess:  30\n"
     ]
    },
    {
     "name": "stdout",
     "output_type": "stream",
     "text": [
      "Fail\n"
     ]
    },
    {
     "name": "stdin",
     "output_type": "stream",
     "text": [
      "make your guess:  1\n"
     ]
    },
    {
     "name": "stdout",
     "output_type": "stream",
     "text": [
      "Fail\n"
     ]
    },
    {
     "name": "stdin",
     "output_type": "stream",
     "text": [
      "make your guess:  11\n"
     ]
    },
    {
     "name": "stdout",
     "output_type": "stream",
     "text": [
      "Fail\n"
     ]
    },
    {
     "name": "stdin",
     "output_type": "stream",
     "text": [
      "make your guess:  12\n"
     ]
    },
    {
     "name": "stdout",
     "output_type": "stream",
     "text": [
      "Fail\n"
     ]
    },
    {
     "name": "stdin",
     "output_type": "stream",
     "text": [
      "make your guess:  13\n"
     ]
    },
    {
     "name": "stdout",
     "output_type": "stream",
     "text": [
      "Fail\n"
     ]
    },
    {
     "name": "stdin",
     "output_type": "stream",
     "text": [
      "make your guess:  15\n"
     ]
    },
    {
     "name": "stdout",
     "output_type": "stream",
     "text": [
      "Fail\n"
     ]
    },
    {
     "name": "stdin",
     "output_type": "stream",
     "text": [
      "make your guess:  16\n"
     ]
    },
    {
     "name": "stdout",
     "output_type": "stream",
     "text": [
      "Please, only numbers between 10 and 20\n"
     ]
    },
    {
     "ename": "KeyboardInterrupt",
     "evalue": "Interrupted by user",
     "output_type": "error",
     "traceback": [
      "\u001b[1;31m---------------------------------------------------------------------------\u001b[0m",
      "\u001b[1;31mKeyboardInterrupt\u001b[0m                         Traceback (most recent call last)",
      "Cell \u001b[1;32mIn[34], line 23\u001b[0m\n\u001b[0;32m     20\u001b[0m         \u001b[38;5;28mprint\u001b[39m(\u001b[38;5;124m\"\u001b[39m\u001b[38;5;124mFail\u001b[39m\u001b[38;5;124m\"\u001b[39m)\n\u001b[0;32m     21\u001b[0m         user \u001b[38;5;241m=\u001b[39m \u001b[38;5;28mint\u001b[39m(\u001b[38;5;28minput\u001b[39m(\u001b[38;5;124m\"\u001b[39m\u001b[38;5;124mmake your guess: \u001b[39m\u001b[38;5;124m\"\u001b[39m))\n\u001b[1;32m---> 23\u001b[0m guess(\u001b[38;5;241m10\u001b[39m,\u001b[38;5;241m20\u001b[39m)\n",
      "Cell \u001b[1;32mIn[34], line 12\u001b[0m, in \u001b[0;36mguess\u001b[1;34m(number1, number2)\u001b[0m\n\u001b[0;32m     10\u001b[0m \u001b[38;5;28;01mwhile\u001b[39;00m user \u001b[38;5;241m<\u001b[39m number1 \u001b[38;5;129;01mor\u001b[39;00m user \u001b[38;5;241m>\u001b[39m number2:\n\u001b[0;32m     11\u001b[0m     \u001b[38;5;28mprint\u001b[39m(\u001b[38;5;124mf\u001b[39m\u001b[38;5;124m\"\u001b[39m\u001b[38;5;124mPlease, only numbers between \u001b[39m\u001b[38;5;132;01m{\u001b[39;00mnumber1\u001b[38;5;132;01m}\u001b[39;00m\u001b[38;5;124m and \u001b[39m\u001b[38;5;132;01m{\u001b[39;00mnumber2\u001b[38;5;132;01m}\u001b[39;00m\u001b[38;5;124m\"\u001b[39m)\n\u001b[1;32m---> 12\u001b[0m     guess(number1, number2)\n\u001b[0;32m     14\u001b[0m \u001b[38;5;28;01mif\u001b[39;00m user \u001b[38;5;241m==\u001b[39m number_to_guess:\n\u001b[0;32m     15\u001b[0m     \u001b[38;5;28mprint\u001b[39m(\u001b[38;5;124m\"\u001b[39m\u001b[38;5;124mCongrats\u001b[39m\u001b[38;5;124m\"\u001b[39m)\n",
      "Cell \u001b[1;32mIn[34], line 8\u001b[0m, in \u001b[0;36mguess\u001b[1;34m(number1, number2)\u001b[0m\n\u001b[0;32m      6\u001b[0m number_to_guess \u001b[38;5;241m=\u001b[39m random\u001b[38;5;241m.\u001b[39mchoice(\u001b[38;5;28mrange\u001b[39m(number1, number2))\n\u001b[0;32m      7\u001b[0m number_of_guesses \u001b[38;5;241m=\u001b[39m \u001b[38;5;241m1\u001b[39m\n\u001b[1;32m----> 8\u001b[0m user \u001b[38;5;241m=\u001b[39m \u001b[38;5;28mint\u001b[39m(\u001b[38;5;28minput\u001b[39m(\u001b[38;5;124m\"\u001b[39m\u001b[38;5;124mmake your guess: \u001b[39m\u001b[38;5;124m\"\u001b[39m))\n\u001b[0;32m     10\u001b[0m \u001b[38;5;28;01mwhile\u001b[39;00m user \u001b[38;5;241m<\u001b[39m number1 \u001b[38;5;129;01mor\u001b[39;00m user \u001b[38;5;241m>\u001b[39m number2:\n\u001b[0;32m     11\u001b[0m     \u001b[38;5;28mprint\u001b[39m(\u001b[38;5;124mf\u001b[39m\u001b[38;5;124m\"\u001b[39m\u001b[38;5;124mPlease, only numbers between \u001b[39m\u001b[38;5;132;01m{\u001b[39;00mnumber1\u001b[38;5;132;01m}\u001b[39;00m\u001b[38;5;124m and \u001b[39m\u001b[38;5;132;01m{\u001b[39;00mnumber2\u001b[38;5;132;01m}\u001b[39;00m\u001b[38;5;124m\"\u001b[39m)\n",
      "File \u001b[1;32m~\\anaconda3\\Lib\\site-packages\\ipykernel\\kernelbase.py:1202\u001b[0m, in \u001b[0;36mKernel.raw_input\u001b[1;34m(self, prompt)\u001b[0m\n\u001b[0;32m   1200\u001b[0m     msg \u001b[38;5;241m=\u001b[39m \u001b[38;5;124m\"\u001b[39m\u001b[38;5;124mraw_input was called, but this frontend does not support input requests.\u001b[39m\u001b[38;5;124m\"\u001b[39m\n\u001b[0;32m   1201\u001b[0m     \u001b[38;5;28;01mraise\u001b[39;00m StdinNotImplementedError(msg)\n\u001b[1;32m-> 1202\u001b[0m \u001b[38;5;28;01mreturn\u001b[39;00m \u001b[38;5;28mself\u001b[39m\u001b[38;5;241m.\u001b[39m_input_request(\n\u001b[0;32m   1203\u001b[0m     \u001b[38;5;28mstr\u001b[39m(prompt),\n\u001b[0;32m   1204\u001b[0m     \u001b[38;5;28mself\u001b[39m\u001b[38;5;241m.\u001b[39m_parent_ident[\u001b[38;5;124m\"\u001b[39m\u001b[38;5;124mshell\u001b[39m\u001b[38;5;124m\"\u001b[39m],\n\u001b[0;32m   1205\u001b[0m     \u001b[38;5;28mself\u001b[39m\u001b[38;5;241m.\u001b[39mget_parent(\u001b[38;5;124m\"\u001b[39m\u001b[38;5;124mshell\u001b[39m\u001b[38;5;124m\"\u001b[39m),\n\u001b[0;32m   1206\u001b[0m     password\u001b[38;5;241m=\u001b[39m\u001b[38;5;28;01mFalse\u001b[39;00m,\n\u001b[0;32m   1207\u001b[0m )\n",
      "File \u001b[1;32m~\\anaconda3\\Lib\\site-packages\\ipykernel\\kernelbase.py:1245\u001b[0m, in \u001b[0;36mKernel._input_request\u001b[1;34m(self, prompt, ident, parent, password)\u001b[0m\n\u001b[0;32m   1242\u001b[0m \u001b[38;5;28;01mexcept\u001b[39;00m \u001b[38;5;167;01mKeyboardInterrupt\u001b[39;00m:\n\u001b[0;32m   1243\u001b[0m     \u001b[38;5;66;03m# re-raise KeyboardInterrupt, to truncate traceback\u001b[39;00m\n\u001b[0;32m   1244\u001b[0m     msg \u001b[38;5;241m=\u001b[39m \u001b[38;5;124m\"\u001b[39m\u001b[38;5;124mInterrupted by user\u001b[39m\u001b[38;5;124m\"\u001b[39m\n\u001b[1;32m-> 1245\u001b[0m     \u001b[38;5;28;01mraise\u001b[39;00m \u001b[38;5;167;01mKeyboardInterrupt\u001b[39;00m(msg) \u001b[38;5;28;01mfrom\u001b[39;00m \u001b[38;5;28;01mNone\u001b[39;00m\n\u001b[0;32m   1246\u001b[0m \u001b[38;5;28;01mexcept\u001b[39;00m \u001b[38;5;167;01mException\u001b[39;00m:\n\u001b[0;32m   1247\u001b[0m     \u001b[38;5;28mself\u001b[39m\u001b[38;5;241m.\u001b[39mlog\u001b[38;5;241m.\u001b[39mwarning(\u001b[38;5;124m\"\u001b[39m\u001b[38;5;124mInvalid Message:\u001b[39m\u001b[38;5;124m\"\u001b[39m, exc_info\u001b[38;5;241m=\u001b[39m\u001b[38;5;28;01mTrue\u001b[39;00m)\n",
      "\u001b[1;31mKeyboardInterrupt\u001b[0m: Interrupted by user"
     ]
    }
   ],
   "source": [
    "def guess(number1, number2): #No me funciona bien\n",
    "\n",
    "    import random\n",
    "    \n",
    "    guess_numbers = list(range(number1, number2+1))\n",
    "    number_to_guess = random.choice(range(number1, number2))\n",
    "    number_of_guesses = 1\n",
    "    user = int(input(\"make your guess: \"))\n",
    "    \n",
    "    while user < number1 or user > number2:\n",
    "        print(f\"Please, only numbers between {number1} and {number2}\")\n",
    "        guess(number1, number2)\n",
    "    \n",
    "    if user == number_to_guess:\n",
    "        print(\"Congrats\")\n",
    "        print(f\"Attempts: {number_of_guesses}\")\n",
    "\n",
    "    while user != number_to_guess:\n",
    "        number_of_guesses+=1\n",
    "        print(\"Fail\")\n",
    "        user = int(input(\"make your guess: \"))\n",
    "    \n",
    "guess(10,20)"
   ]
  },
  {
   "cell_type": "code",
   "execution_count": 39,
   "metadata": {
    "tags": []
   },
   "outputs": [
    {
     "name": "stdin",
     "output_type": "stream",
     "text": [
      "make your guess:  12\n"
     ]
    },
    {
     "name": "stdout",
     "output_type": "stream",
     "text": [
      "Fail\n"
     ]
    },
    {
     "name": "stdin",
     "output_type": "stream",
     "text": [
      "make your guess:  11\n"
     ]
    }
   ],
   "source": [
    "def guess(number1, number2): #No me funciona bien\n",
    "\n",
    "    import random\n",
    "    \n",
    "    guess_numbers = list(range(number1, number2+1))\n",
    "    number_to_guess = random.choice(range(number1, number2+1))\n",
    "    number_of_guesses = 1\n",
    "    user = int(input(\"make your guess: \"))\n",
    "    \n",
    "    while user not in guess_numbers:\n",
    "        print(f\"Please, only numbers between {number1} and {number2}\")\n",
    "        user = int(input(\"make your guess: \"))\n",
    "\n",
    "   \n",
    "    while user in guess_numbers:\n",
    "        if user == number_to_guess:\n",
    "            print(\"Congrats\")\n",
    "            print(f\"Attempts: {number_of_guesses}\")\n",
    "            \n",
    "        elif user not in guess_numbers:\n",
    "            print(f\"congrats u bugged the game. Restarting game...\")\n",
    "            guess(number1, number2)\n",
    "        \n",
    "        else: \n",
    "            number_of_guesses+=1\n",
    "            print(\"Fail\")\n",
    "            user = int(input(\"make your guess: \"))\n",
    "            break\n",
    "\n",
    "        \n",
    "guess(10,15)"
   ]
  },
  {
   "cell_type": "code",
   "execution_count": 96,
   "metadata": {
    "tags": []
   },
   "outputs": [
    {
     "name": "stdin",
     "output_type": "stream",
     "text": [
      "Make your guess:  30\n"
     ]
    },
    {
     "name": "stdout",
     "output_type": "stream",
     "text": [
      "Please, only numbers between 10 and 15\n"
     ]
    },
    {
     "name": "stdin",
     "output_type": "stream",
     "text": [
      "Make your guess:  12\n"
     ]
    },
    {
     "name": "stdout",
     "output_type": "stream",
     "text": [
      "Fail\n"
     ]
    },
    {
     "name": "stdin",
     "output_type": "stream",
     "text": [
      "Make your guess:  30\n"
     ]
    },
    {
     "name": "stdout",
     "output_type": "stream",
     "text": [
      "Please, only numbers between 10 and 15\n"
     ]
    },
    {
     "name": "stdin",
     "output_type": "stream",
     "text": [
      "Make your guess:  11\n"
     ]
    },
    {
     "name": "stdout",
     "output_type": "stream",
     "text": [
      "Fail\n"
     ]
    },
    {
     "name": "stdin",
     "output_type": "stream",
     "text": [
      "Make your guess:  13\n"
     ]
    },
    {
     "name": "stdout",
     "output_type": "stream",
     "text": [
      "Fail\n"
     ]
    },
    {
     "name": "stdin",
     "output_type": "stream",
     "text": [
      "Make your guess:  14\n"
     ]
    },
    {
     "name": "stdout",
     "output_type": "stream",
     "text": [
      "Fail\n"
     ]
    },
    {
     "name": "stdin",
     "output_type": "stream",
     "text": [
      "Make your guess:  15\n"
     ]
    },
    {
     "name": "stdout",
     "output_type": "stream",
     "text": [
      "Fail\n"
     ]
    },
    {
     "name": "stdin",
     "output_type": "stream",
     "text": [
      "Make your guess:  01\n"
     ]
    },
    {
     "name": "stdout",
     "output_type": "stream",
     "text": [
      "Please, only numbers between 10 and 15\n"
     ]
    },
    {
     "name": "stdin",
     "output_type": "stream",
     "text": [
      "Make your guess:  10\n"
     ]
    },
    {
     "name": "stdout",
     "output_type": "stream",
     "text": [
      "Congrats\n",
      "Attempts: 9\n"
     ]
    }
   ],
   "source": [
    "def guess(number1, number2): #ESTE ES EL CORRECTO.\n",
    "    import random\n",
    "    \n",
    "    guess_numbers = list(range(number1, number2+1))\n",
    "    number_to_guess = random.choice(range(number1, number2+1))\n",
    "    number_of_guesses = 1\n",
    "\n",
    "    while True:\n",
    "        user = int(input(\"Make your guess: \"))\n",
    "\n",
    "        if user not in guess_numbers:\n",
    "            number_of_guesses += 1\n",
    "            print(f\"Please, only numbers between {number1} and {number2}\")\n",
    "        else:\n",
    "            if user == number_to_guess:\n",
    "                print(\"Congrats\")\n",
    "                print(f\"Attempts: {number_of_guesses}\")\n",
    "                break\n",
    "            else:\n",
    "                number_of_guesses += 1\n",
    "                print(\"Fail\")\n",
    "                    \n",
    "guess(10,15)"
   ]
  },
  {
   "cell_type": "markdown",
   "metadata": {},
   "source": [
    "## EXERCISE 2 (OPTIONAL): LET'S DEVELOP R-P-S"
   ]
  },
  {
   "cell_type": "code",
   "execution_count": 94,
   "metadata": {},
   "outputs": [],
   "source": [
    "#LA SOLUCIÓN ESTÁ ABAJO DEL TODO."
   ]
  },
  {
   "cell_type": "markdown",
   "metadata": {},
   "source": [
    "Let's develop the code used in class: The R-P-S (Example below)\n",
    "The main problem with this code is that whoever wins a round, wins the match: The user must select the number of rounds needed to win the match. Enjoy!"
   ]
  },
  {
   "cell_type": "code",
   "execution_count": 50,
   "metadata": {
    "tags": []
   },
   "outputs": [
    {
     "name": "stdin",
     "output_type": "stream",
     "text": [
      "elige entre piedra, papel o tijeras  peida\n",
      "Solo piedra, papel o tijeras, porfa piedra\n"
     ]
    },
    {
     "name": "stdout",
     "output_type": "stream",
     "text": [
      "yo elijo  papel\n",
      "perdiste\n"
     ]
    },
    {
     "name": "stdin",
     "output_type": "stream",
     "text": [
      "volver a jugar? yes or no yes\n",
      "elige entre piedra, papel o tijeras  peidra\n",
      "Solo piedra, papel o tijeras, porfa peidra\n",
      "Solo piedra, papel o tijeras, porfa piedra\n"
     ]
    },
    {
     "name": "stdout",
     "output_type": "stream",
     "text": [
      "yo elijo  piedra\n",
      "empate\n"
     ]
    },
    {
     "name": "stdin",
     "output_type": "stream",
     "text": [
      "volver a jugar? yes or no ñ\n"
     ]
    },
    {
     "name": "stdout",
     "output_type": "stream",
     "text": [
      "Chau!\n"
     ]
    }
   ],
   "source": [
    "def rps(): #Esto lo hice en clase el dia que salió en una notebook. A ver si lo puedo arreglar. \n",
    "    import random\n",
    "    r_p_s = [\"piedra\", \"papel\", \"tijeras\"]\n",
    "         \n",
    "    user = input(\"elige entre piedra, papel o tijeras \").lower()\n",
    "    computer = random.choice(r_p_s)\n",
    "    while user not in r_p_s:\n",
    "        user=input(\"Solo piedra, papel o tijeras, porfa\")\n",
    "    if user == computer:\n",
    "        print(\"yo elijo \",computer)\n",
    "        print(\"empate\")\n",
    "        play_again= input(\"volver a jugar? yes or no\").lower()\n",
    "        if play_again == \"yes\":\n",
    "            rps()\n",
    "        else:\n",
    "                print(\"Chau!\")\n",
    "    elif (user == \"piedra\" and computer == \"papel\") or (user == \"tijeras\" and computer == \"piedra\") or (user == \"papel\" and computer == \"tijeras\"):\n",
    "        print(\"yo elijo \",computer)\n",
    "        print(\"perdiste\")\n",
    "        play_again= input(\"volver a jugar? yes or no\").lower()\n",
    "        if play_again == \"yes\":\n",
    "            rps()\n",
    "        else:\n",
    "            print(\"Chau!\")\n",
    "    else:\n",
    "        print(\"yo elijo \",computer)\n",
    "        print(\"ganaste\")\n",
    "        play_again= input(\"volver a jugar? yes or no\").lower()\n",
    "        if play_again == \"yes\":\n",
    "            rps()\n",
    "        else:\n",
    "            print(\"Chau!\")\n",
    "rps()"
   ]
  },
  {
   "cell_type": "code",
   "execution_count": 79,
   "metadata": {},
   "outputs": [
    {
     "name": "stdin",
     "output_type": "stream",
     "text": [
      "elige entre piedra, papel o tijeras  piedra\n"
     ]
    },
    {
     "name": "stdout",
     "output_type": "stream",
     "text": [
      "yo elijo  piedra\n",
      "empate\n",
      "user: 0 --- computer:0\n"
     ]
    },
    {
     "name": "stdin",
     "output_type": "stream",
     "text": [
      "elige entre piedra, papel o tijeras  piedra\n"
     ]
    },
    {
     "name": "stdout",
     "output_type": "stream",
     "text": [
      "yo elijo  piedra\n",
      "empate\n",
      "user: 0 --- computer:0\n"
     ]
    },
    {
     "name": "stdin",
     "output_type": "stream",
     "text": [
      "elige entre piedra, papel o tijeras  piedra\n"
     ]
    },
    {
     "name": "stdout",
     "output_type": "stream",
     "text": [
      "yo elijo  piedra\n",
      "empate\n",
      "user: 0 --- computer:0\n"
     ]
    },
    {
     "name": "stdin",
     "output_type": "stream",
     "text": [
      "elige entre piedra, papel o tijeras  piedra\n"
     ]
    },
    {
     "name": "stdout",
     "output_type": "stream",
     "text": [
      "yo elijo  piedra\n",
      "empate\n",
      "user: 0 --- computer:0\n"
     ]
    },
    {
     "name": "stdin",
     "output_type": "stream",
     "text": [
      "elige entre piedra, papel o tijeras  piedra\n"
     ]
    },
    {
     "name": "stdout",
     "output_type": "stream",
     "text": [
      "yo elijo  papel\n",
      "perdiste\n",
      "user: 0 --- computer:1\n"
     ]
    },
    {
     "name": "stdin",
     "output_type": "stream",
     "text": [
      "elige entre piedra, papel o tijeras  piedra\n"
     ]
    },
    {
     "name": "stdout",
     "output_type": "stream",
     "text": [
      "yo elijo  tijeras\n",
      "ganaste\n",
      "user: 1 --- computer:1\n"
     ]
    },
    {
     "name": "stdin",
     "output_type": "stream",
     "text": [
      "elige entre piedra, papel o tijeras  piedra\n"
     ]
    },
    {
     "name": "stdout",
     "output_type": "stream",
     "text": [
      "yo elijo  papel\n",
      "perdiste\n",
      "user: 1 --- computer:2\n"
     ]
    },
    {
     "name": "stdin",
     "output_type": "stream",
     "text": [
      "elige entre piedra, papel o tijeras  mierda\n"
     ]
    },
    {
     "name": "stdout",
     "output_type": "stream",
     "text": [
      "Solo piedra, papel o tijeras, porfa\n"
     ]
    },
    {
     "name": "stdin",
     "output_type": "stream",
     "text": [
      "elige entre piedra, papel o tijeras  piedra\n"
     ]
    },
    {
     "name": "stdout",
     "output_type": "stream",
     "text": [
      "yo elijo  tijeras\n",
      "user: 1 --- computer:2\n",
      "perdiste el juego\n"
     ]
    }
   ],
   "source": [
    "def rps_rounds(rounds):\n",
    "    import random\n",
    "    r_p_s = [\"piedra\", \"papel\", \"tijeras\"]\n",
    "    computer = random.choice(r_p_s)\n",
    "    computer_wins = 0\n",
    "    user_wins = 0\n",
    "    \n",
    "    while True:\n",
    "        user = input(\"elige entre piedra, papel o tijeras \").lower()\n",
    "        computer = random.choice(r_p_s)\n",
    "        \n",
    "        if user not in r_p_s:\n",
    "            print(\"Solo piedra, papel o tijeras, porfa\")\n",
    "            \n",
    "        elif computer_wins < rounds and user_wins < rounds:\n",
    "            if user == computer:\n",
    "                print(\"yo elijo \",computer)\n",
    "                print(\"empate\")\n",
    "                print(f\"user: {user_wins} --- computer:{computer_wins}\")\n",
    "\n",
    "\n",
    "            elif (user == \"piedra\" and computer == \"papel\") or (user == \"tijeras\" and computer == \"piedra\") or (user == \"papel\" and computer == \"tijeras\"):\n",
    "                print(\"yo elijo \",computer)\n",
    "                print(\"perdiste\")\n",
    "                computer_wins+=1\n",
    "                print(f\"user: {user_wins} --- computer:{computer_wins}\")\n",
    "\n",
    "            else:\n",
    "                print(\"yo elijo \",computer)\n",
    "                print(\"ganaste\")\n",
    "                user_wins+=1\n",
    "                print(f\"user: {user_wins} --- computer:{computer_wins}\")\n",
    "        else:\n",
    "            if computer_wins == rounds: #Esto debería ejecturase un paso antes de lo que lo hace. \n",
    "                print(\"yo elijo \",computer)\n",
    "                print(f\"user: {user_wins} --- computer:{computer_wins}\")\n",
    "                print(\"perdiste el juego\")\n",
    "                break\n",
    "            elif user_wins == rounds:\n",
    "                print(\"yo elijo \",computer)\n",
    "                print(f\"user: {user_wins} --- computer:{computer_wins}\")\n",
    "                print(\"ganaste el juego\")\n",
    "                break\n",
    "            \n",
    "rps_rounds(2)"
   ]
  },
  {
   "cell_type": "code",
   "execution_count": 93,
   "metadata": {
    "tags": []
   },
   "outputs": [
    {
     "name": "stdin",
     "output_type": "stream",
     "text": [
      "elige entre piedra, papel o tijeras  piedra\n"
     ]
    },
    {
     "name": "stdout",
     "output_type": "stream",
     "text": [
      "yo elijo  tijeras\n",
      "ganaste\n",
      "user: 1 --- computer:0\n"
     ]
    },
    {
     "name": "stdin",
     "output_type": "stream",
     "text": [
      "elige entre piedra, papel o tijeras  peidarç\n"
     ]
    },
    {
     "name": "stdout",
     "output_type": "stream",
     "text": [
      "Solo piedra, papel o tijeras, porfa\n"
     ]
    },
    {
     "name": "stdin",
     "output_type": "stream",
     "text": [
      "elige entre piedra, papel o tijeras  peidanos\n"
     ]
    },
    {
     "name": "stdout",
     "output_type": "stream",
     "text": [
      "Solo piedra, papel o tijeras, porfa\n"
     ]
    },
    {
     "name": "stdin",
     "output_type": "stream",
     "text": [
      "elige entre piedra, papel o tijeras  piedra\n"
     ]
    },
    {
     "name": "stdout",
     "output_type": "stream",
     "text": [
      "yo elijo  piedra\n",
      "empate\n",
      "user: 1 --- computer:0\n"
     ]
    },
    {
     "name": "stdin",
     "output_type": "stream",
     "text": [
      "elige entre piedra, papel o tijeras  piedra\n"
     ]
    },
    {
     "name": "stdout",
     "output_type": "stream",
     "text": [
      "yo elijo  papel\n",
      "perdiste\n",
      "user: 1 --- computer:1\n"
     ]
    },
    {
     "name": "stdin",
     "output_type": "stream",
     "text": [
      "elige entre piedra, papel o tijeras  piedra\n"
     ]
    },
    {
     "name": "stdout",
     "output_type": "stream",
     "text": [
      "yo elijo  tijeras\n",
      "ganaste\n",
      "user: 2 --- computer:1\n",
      "ganaste el juego\n"
     ]
    }
   ],
   "source": [
    "def rps_rounds(rounds): #AHORA SI FUNCIONAA!\n",
    "    import random\n",
    "    r_p_s = [\"piedra\", \"papel\", \"tijeras\"]\n",
    "    computer = random.choice(r_p_s)\n",
    "    computer_wins = 0\n",
    "    user_wins = 0\n",
    "    \n",
    "    while True:\n",
    "        user = input(\"elige entre piedra, papel o tijeras \").lower()\n",
    "        computer = random.choice(r_p_s)\n",
    "\n",
    "        if user not in r_p_s:\n",
    "                print(\"Solo piedra, papel o tijeras, porfa\")\n",
    "\n",
    "        elif computer_wins < rounds and user_wins < rounds:\n",
    "            if user == computer:\n",
    "                print(\"yo elijo \",computer)\n",
    "                print(\"empate\")\n",
    "                print(f\"user: {user_wins} --- computer:{computer_wins}\")\n",
    "\n",
    "\n",
    "            elif (user == \"piedra\" and computer == \"papel\") or (user == \"tijeras\" and computer == \"piedra\") or (user == \"papel\" and computer == \"tijeras\"):\n",
    "                print(\"yo elijo \",computer)\n",
    "                print(\"perdiste\")\n",
    "                computer_wins+=1\n",
    "                print(f\"user: {user_wins} --- computer:{computer_wins}\")\n",
    "                computer = random.choice(r_p_s)\n",
    "                if computer_wins == rounds: \n",
    "                    print(\"perdiste el juego\")\n",
    "                    break\n",
    "            else:\n",
    "                print(\"yo elijo \",computer)\n",
    "                print(\"ganaste\")\n",
    "                user_wins+=1\n",
    "                print(f\"user: {user_wins} --- computer:{computer_wins}\")\n",
    "                if user_wins == rounds: \n",
    "                    print(\"ganaste el juego\")\n",
    "                    break\n",
    "            \n",
    "rps_rounds(2)"
   ]
  },
  {
   "cell_type": "code",
   "execution_count": null,
   "metadata": {},
   "outputs": [],
   "source": []
  }
 ],
 "metadata": {
  "kernelspec": {
   "display_name": "Python 3 (ipykernel)",
   "language": "python",
   "name": "python3"
  },
  "language_info": {
   "codemirror_mode": {
    "name": "ipython",
    "version": 3
   },
   "file_extension": ".py",
   "mimetype": "text/x-python",
   "name": "python",
   "nbconvert_exporter": "python",
   "pygments_lexer": "ipython3",
   "version": "3.11.5"
  }
 },
 "nbformat": 4,
 "nbformat_minor": 4
}
