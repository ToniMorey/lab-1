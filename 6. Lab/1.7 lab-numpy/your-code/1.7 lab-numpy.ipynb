{
 "cells": [
  {
   "cell_type": "code",
   "execution_count": 2,
   "id": "308a207c-1369-46f7-8ce5-57bda97773a2",
   "metadata": {
    "tags": []
   },
   "outputs": [],
   "source": [
    "#1. Import the NUMPY package under the name np.\n",
    "\n",
    "#[your code here]\n",
    "import numpy as np"
   ]
  },
  {
   "cell_type": "code",
   "execution_count": 3,
   "id": "23a74ec8-3bae-4fdd-ae3f-a8be2ccc9815",
   "metadata": {
    "tags": []
   },
   "outputs": [
    {
     "name": "stdout",
     "output_type": "stream",
     "text": [
      "1.24.3\n",
      "blas_armpl_info:\n",
      "  NOT AVAILABLE\n",
      "blas_mkl_info:\n",
      "    libraries = ['mkl_rt']\n",
      "    library_dirs = ['C:/Users/Usuario/anaconda3\\\\Library\\\\lib']\n",
      "    define_macros = [('SCIPY_MKL_H', None), ('HAVE_CBLAS', None)]\n",
      "    include_dirs = ['C:/Users/Usuario/anaconda3\\\\Library\\\\include']\n",
      "blas_opt_info:\n",
      "    libraries = ['mkl_rt']\n",
      "    library_dirs = ['C:/Users/Usuario/anaconda3\\\\Library\\\\lib']\n",
      "    define_macros = [('SCIPY_MKL_H', None), ('HAVE_CBLAS', None)]\n",
      "    include_dirs = ['C:/Users/Usuario/anaconda3\\\\Library\\\\include']\n",
      "lapack_armpl_info:\n",
      "  NOT AVAILABLE\n",
      "lapack_mkl_info:\n",
      "    libraries = ['mkl_rt']\n",
      "    library_dirs = ['C:/Users/Usuario/anaconda3\\\\Library\\\\lib']\n",
      "    define_macros = [('SCIPY_MKL_H', None), ('HAVE_CBLAS', None)]\n",
      "    include_dirs = ['C:/Users/Usuario/anaconda3\\\\Library\\\\include']\n",
      "lapack_opt_info:\n",
      "    libraries = ['mkl_rt']\n",
      "    library_dirs = ['C:/Users/Usuario/anaconda3\\\\Library\\\\lib']\n",
      "    define_macros = [('SCIPY_MKL_H', None), ('HAVE_CBLAS', None)]\n",
      "    include_dirs = ['C:/Users/Usuario/anaconda3\\\\Library\\\\include']\n",
      "Supported SIMD extensions in this NumPy install:\n",
      "    baseline = SSE,SSE2,SSE3\n",
      "    found = SSSE3,SSE41,POPCNT,SSE42,AVX,F16C,FMA3,AVX2\n",
      "    not found = AVX512F,AVX512CD,AVX512_SKX,AVX512_CLX,AVX512_CNL,AVX512_ICL\n",
      "None\n"
     ]
    }
   ],
   "source": [
    "#2. Print the NUMPY version and the configuration.\n",
    "\n",
    "#[your code here]\n",
    "print(np.__version__)\n",
    "print(np.show_config())"
   ]
  },
  {
   "cell_type": "code",
   "execution_count": 4,
   "id": "7ffca352-313a-42ff-b9a0-4026426eeacf",
   "metadata": {
    "tags": []
   },
   "outputs": [],
   "source": [
    "#3. Generate a 2x3x5 3-dimensional array with random values. Assign the array to variable \"a\"\n",
    "# Challenge: there are at least three easy ways that use numpy to generate random arrays. How many ways can you find?\n",
    "\n",
    "#[your code here]\n",
    "a = np.random.randint(6,size=(2,3,5))"
   ]
  },
  {
   "cell_type": "code",
   "execution_count": 5,
   "id": "28690b11-4843-49c0-b657-375184fb18dd",
   "metadata": {
    "tags": []
   },
   "outputs": [
    {
     "name": "stdout",
     "output_type": "stream",
     "text": [
      "[[[2 2 2 3 3]\n",
      "  [4 5 0 1 0]\n",
      "  [4 4 0 1 4]]\n",
      "\n",
      " [[1 2 3 4 4]\n",
      "  [4 3 1 1 0]\n",
      "  [4 4 0 1 4]]]\n"
     ]
    }
   ],
   "source": [
    "#4. Print a.\n",
    "\n",
    "#[your code here]\n",
    "print(a)"
   ]
  },
  {
   "cell_type": "code",
   "execution_count": 6,
   "id": "8b67ee5c-c76e-48b4-83cf-59d6d496f721",
   "metadata": {
    "tags": []
   },
   "outputs": [],
   "source": [
    "#5. Create a 5x2x3 3-dimensional array with all values equaling 1.\n",
    "#Assign the array to variable \"b\"\n",
    "\n",
    "#[your code here]\n",
    "b=np.full((5,2,3),1)"
   ]
  },
  {
   "cell_type": "code",
   "execution_count": 7,
   "id": "2ed62ba5-c24d-4bad-8999-62656bcd8ceb",
   "metadata": {
    "tags": []
   },
   "outputs": [
    {
     "name": "stdout",
     "output_type": "stream",
     "text": [
      "[[[1 1 1]\n",
      "  [1 1 1]]\n",
      "\n",
      " [[1 1 1]\n",
      "  [1 1 1]]\n",
      "\n",
      " [[1 1 1]\n",
      "  [1 1 1]]\n",
      "\n",
      " [[1 1 1]\n",
      "  [1 1 1]]\n",
      "\n",
      " [[1 1 1]\n",
      "  [1 1 1]]]\n"
     ]
    }
   ],
   "source": [
    "#6. Print b.\n",
    "\n",
    "#[your code here]\n",
    "print(b)"
   ]
  },
  {
   "cell_type": "code",
   "execution_count": 8,
   "id": "97b5b012-4d73-4c2b-a1db-1dfabf006814",
   "metadata": {
    "tags": []
   },
   "outputs": [
    {
     "data": {
      "text/plain": [
       "True"
      ]
     },
     "execution_count": 8,
     "metadata": {},
     "output_type": "execute_result"
    }
   ],
   "source": [
    "#7. Do a and b have the same size? How do you prove that in Python code?\n",
    "\n",
    "#[your code here]\n",
    "b.size == a.size"
   ]
  },
  {
   "cell_type": "code",
   "execution_count": 9,
   "id": "00528d01-aa14-41c3-b1e3-065938763ab7",
   "metadata": {
    "tags": []
   },
   "outputs": [
    {
     "ename": "ValueError",
     "evalue": "operands could not be broadcast together with shapes (2,3,5) (5,2,3) ",
     "output_type": "error",
     "traceback": [
      "\u001b[1;31m---------------------------------------------------------------------------\u001b[0m",
      "\u001b[1;31mValueError\u001b[0m                                Traceback (most recent call last)",
      "Cell \u001b[1;32mIn[9], line 4\u001b[0m\n\u001b[0;32m      1\u001b[0m \u001b[38;5;66;03m#8. Are you able to add a and b? Why or why not?\u001b[39;00m\n\u001b[0;32m      2\u001b[0m \n\u001b[0;32m      3\u001b[0m \u001b[38;5;66;03m#[your code here]\u001b[39;00m\n\u001b[1;32m----> 4\u001b[0m \u001b[38;5;28mprint\u001b[39m(a\u001b[38;5;241m+\u001b[39mb)\n",
      "\u001b[1;31mValueError\u001b[0m: operands could not be broadcast together with shapes (2,3,5) (5,2,3) "
     ]
    }
   ],
   "source": [
    "#8. Are you able to add a and b? Why or why not?\n",
    "\n",
    "#[your code here]\n",
    "print(a+b)\n",
    "#No se pueden juntar porque no tienen la misma forma a pesar de tener el mismo tamaño"
   ]
  },
  {
   "cell_type": "code",
   "execution_count": 10,
   "id": "85878165-1245-4b60-8181-f5e63a420a9e",
   "metadata": {
    "tags": []
   },
   "outputs": [
    {
     "name": "stdout",
     "output_type": "stream",
     "text": [
      "[[[1 1 1 1 1]\n",
      "  [1 1 1 1 1]\n",
      "  [1 1 1 1 1]]\n",
      "\n",
      " [[1 1 1 1 1]\n",
      "  [1 1 1 1 1]\n",
      "  [1 1 1 1 1]]]\n"
     ]
    }
   ],
   "source": [
    "#9. Transpose b so that it has the same structure of a (i.e. become a 2x3x5 array). Assign the transposed array to varialbe \"c\".\n",
    "\n",
    "#[your code here]\n",
    "c = b.transpose(1,2,0)\n",
    "print(c)"
   ]
  },
  {
   "cell_type": "code",
   "execution_count": 11,
   "id": "75a98fac-02cf-4d56-b157-32004747c06c",
   "metadata": {
    "tags": []
   },
   "outputs": [],
   "source": [
    "#10. Try to add a and c. Now it should work. Assign the sum to varialbe \"d\". But why does it work now?\n",
    "\n",
    "#[your code here]\n",
    "d = a+c \n",
    "#no funciona a no ser que hagas un cambio en la forma de la matriz, no se si es que el enunciado está mal o que realmente debíamos hacer el cambio"
   ]
  },
  {
   "cell_type": "code",
   "execution_count": 12,
   "id": "43ec9c6d-26cd-4459-b7cc-07a3eb206805",
   "metadata": {
    "tags": []
   },
   "outputs": [
    {
     "name": "stdout",
     "output_type": "stream",
     "text": [
      "[[[2 2 2 3 3]\n",
      "  [4 5 0 1 0]\n",
      "  [4 4 0 1 4]]\n",
      "\n",
      " [[1 2 3 4 4]\n",
      "  [4 3 1 1 0]\n",
      "  [4 4 0 1 4]]]\n",
      "[[[3 3 3 4 4]\n",
      "  [5 6 1 2 1]\n",
      "  [5 5 1 2 5]]\n",
      "\n",
      " [[2 3 4 5 5]\n",
      "  [5 4 2 2 1]\n",
      "  [5 5 1 2 5]]]\n"
     ]
    }
   ],
   "source": [
    "#11. Print a and d. Notice the difference and relation of the two array in terms of the values? Explain.\n",
    "#No entiendo la pregunta\n",
    "#[your code here]\n",
    "print(a)\n",
    "\n",
    "print(d)"
   ]
  },
  {
   "cell_type": "code",
   "execution_count": 13,
   "id": "8afb562f-52a5-42a5-8d76-feb686fdfcba",
   "metadata": {
    "tags": []
   },
   "outputs": [
    {
     "name": "stdout",
     "output_type": "stream",
     "text": [
      "[[[2 2 2 3 3]\n",
      "  [4 5 0 1 0]\n",
      "  [4 4 0 1 4]]\n",
      "\n",
      " [[1 2 3 4 4]\n",
      "  [4 3 1 1 0]\n",
      "  [4 4 0 1 4]]]\n"
     ]
    }
   ],
   "source": [
    "#12. Multiply a and c. Assign the result to e.\n",
    "\n",
    "#[your code here]\n",
    "e = a*c\n",
    "print(e)"
   ]
  },
  {
   "cell_type": "code",
   "execution_count": 14,
   "id": "5076fad8-47d0-4682-994f-d5c403ed7196",
   "metadata": {
    "tags": []
   },
   "outputs": [
    {
     "data": {
      "text/plain": [
       "array([[[ True,  True,  True,  True,  True],\n",
       "        [ True,  True,  True,  True,  True],\n",
       "        [ True,  True,  True,  True,  True]],\n",
       "\n",
       "       [[ True,  True,  True,  True,  True],\n",
       "        [ True,  True,  True,  True,  True],\n",
       "        [ True,  True,  True,  True,  True]]])"
      ]
     },
     "execution_count": 14,
     "metadata": {},
     "output_type": "execute_result"
    }
   ],
   "source": [
    "#13. Does e equal to a? Why or why not?\n",
    "#Porque C es una matriz del mismo tamaño con solo unos. Por lo que un número multiplicado por uno es uno. \n",
    "#[your code here]\n",
    "e == a"
   ]
  },
  {
   "cell_type": "code",
   "execution_count": 21,
   "id": "68019be1-cdec-4d40-9fe1-3beef782eb20",
   "metadata": {
    "tags": []
   },
   "outputs": [
    {
     "name": "stdout",
     "output_type": "stream",
     "text": [
      "6\n",
      "1\n",
      "3.3666666666666667\n"
     ]
    }
   ],
   "source": [
    "#14. Identify the max, min, and mean values in d. Assign those values to variables \"d_max\", \"d_min\", and \"d_mean\"\n",
    "\n",
    "#[your code here]\n",
    "d_max = d.max()\n",
    "d_min = d.min()\n",
    "d_mean = d.mean()\n",
    "\n",
    "print(d_max)\n",
    "print(d_min)\n",
    "print(d_mean)"
   ]
  },
  {
   "cell_type": "code",
   "execution_count": 23,
   "id": "a5f4c0e5-33d3-4ca2-88f0-62bcbf002951",
   "metadata": {
    "tags": []
   },
   "outputs": [
    {
     "data": {
      "text/plain": [
       "array([[[6.93271349e-312, 6.93248726e-312, 0.00000000e+000,\n",
       "         0.00000000e+000, 1.30617774e-178],\n",
       "        [1.16097020e-028, 1.26104862e-076, 3.17976463e-028,\n",
       "         2.52455712e-052, 1.04917183e-153],\n",
       "        [5.23081515e-143, 2.65626471e+179, 1.82843570e+184,\n",
       "         4.65637181e-033, 2.03897925e+160]],\n",
       "\n",
       "       [[7.43321343e-144, 3.59751658e+252, 1.46901661e+179,\n",
       "         8.37404147e+242, 4.31999013e-096],\n",
       "        [4.82337723e+228, 3.99448902e+175, 4.46364060e-033,\n",
       "         5.45007129e-090, 4.27930901e-033],\n",
       "        [6.46078314e+170, 5.04621343e+180, 1.94918963e-153,\n",
       "         1.14484251e+243, 2.59903827e-144]]])"
      ]
     },
     "execution_count": 23,
     "metadata": {},
     "output_type": "execute_result"
    }
   ],
   "source": [
    "#15. Now we want to label the values in d. First create an empty array \"f\" with the same shape (i.e. 2x3x5) as d using `np.empty`.\n",
    "\n",
    "#[your code here]\n",
    "f = np.empty((2,3,5)) #No entiendo porque no me la printea empty\n",
    "f"
   ]
  },
  {
   "cell_type": "code",
   "execution_count": 19,
   "id": "94650412-bcec-4265-b183-55b01a973882",
   "metadata": {
    "tags": []
   },
   "outputs": [
    {
     "name": "stdout",
     "output_type": "stream",
     "text": [
      "[[[3 3 3 4 4]\n",
      "  [5 6 1 2 1]\n",
      "  [5 5 1 2 5]]\n",
      "\n",
      " [[2 3 4 5 5]\n",
      "  [5 4 2 2 1]\n",
      "  [5 5 1 2 5]]]\n"
     ]
    },
    {
     "ename": "ValueError",
     "evalue": "The truth value of an array with more than one element is ambiguous. Use a.any() or a.all()",
     "output_type": "error",
     "traceback": [
      "\u001b[1;31m---------------------------------------------------------------------------\u001b[0m",
      "\u001b[1;31mValueError\u001b[0m                                Traceback (most recent call last)",
      "Cell \u001b[1;32mIn[19], line 15\u001b[0m\n\u001b[0;32m     13\u001b[0m \u001b[38;5;28;01mfor\u001b[39;00m i \u001b[38;5;129;01min\u001b[39;00m \u001b[38;5;28mrange\u001b[39m(\u001b[38;5;28mlen\u001b[39m(d)):\n\u001b[0;32m     14\u001b[0m     \u001b[38;5;28;01mfor\u001b[39;00m j \u001b[38;5;129;01min\u001b[39;00m \u001b[38;5;28mrange\u001b[39m(\u001b[38;5;28mlen\u001b[39m(d[i])):\n\u001b[1;32m---> 15\u001b[0m         \u001b[38;5;28;01mif\u001b[39;00m d_min \u001b[38;5;241m<\u001b[39m d[i][j] \u001b[38;5;241m<\u001b[39m d_mean:\n\u001b[0;32m     16\u001b[0m             f[i][j] \u001b[38;5;241m=\u001b[39m \u001b[38;5;241m25\u001b[39m\n\u001b[0;32m     17\u001b[0m         \u001b[38;5;28;01melif\u001b[39;00m d_mean \u001b[38;5;241m<\u001b[39m d[i][j] \u001b[38;5;241m<\u001b[39m d_max:\n",
      "\u001b[1;31mValueError\u001b[0m: The truth value of an array with more than one element is ambiguous. Use a.any() or a.all()"
     ]
    }
   ],
   "source": [
    "\"\"\"\n",
    "#16. Populate the values in f. For each value in d, if it's larger than d_min but smaller than d_mean, assign 25 to the corresponding value in f.\n",
    "If a value in d is larger than d_mean but smaller than d_max, assign 75 to the corresponding value in f.\n",
    "If a value equals to d_mean, assign 50 to the corresponding value in f.\n",
    "Assign 0 to the corresponding value(s) in f for d_min in d.\n",
    "Assign 100 to the corresponding value(s) in f for d_max in d.\n",
    "In the end, f should have only the following values: 0, 25, 50, 75, and 100.\n",
    "Note: you don't have to use Numpy in this question.\n",
    "\"\"\"\n",
    "\n",
    "#[your code here] -- (no me sale, no estoy entendiendo nada.... He probado de diferentes manera y al final he hecho lo que ponía el chatgpt. Pero todo me da error.\n",
    "print(d)\n",
    "for i in range(len(d)):\n",
    "    for j in range(len(d[i])):\n",
    "        if d_min < d[i][j] < d_mean:\n",
    "            f[i][j] = 25\n",
    "        elif d_mean < d[i][j] < d_max:\n",
    "            f[i][j] = 75\n",
    "        elif d[i][j] == d_mean:\n",
    "            f[i][j] = 50\n",
    "        elif d[i][j] == d_min:\n",
    "            f[i][j] = 0\n",
    "        elif d[i][j] == d_max:\n",
    "            f[i][j] = 100\n",
    "print(f)"
   ]
  },
  {
   "cell_type": "code",
   "execution_count": 71,
   "id": "34f979ca-bfaa-4d9e-98c3-39bce33d8ddd",
   "metadata": {
    "tags": []
   },
   "outputs": [
    {
     "data": {
      "text/plain": [
       "'\\n#17. Print d and f. Do you have your expected f?\\nFor instance, if your d is:\\narray([[[1.85836099, 1.67064465, 1.62576044, 1.40243961, 1.88454931],\\n        [1.75354326, 1.69403643, 1.36729252, 1.61415071, 1.12104981],\\n        [1.72201435, 1.1862918 , 1.87078449, 1.7726778 , 1.88180042]],\\n\\n       [[1.44747908, 1.31673383, 1.02000951, 1.52218947, 1.97066381],\\n        [1.79129243, 1.74983003, 1.96028037, 1.85166831, 1.65450881],\\n        [1.18068344, 1.9587381 , 1.00656599, 1.93402165, 1.73514584]]])\\n\\nYour f should be:\\narray([[[ 75.,  75.,  75.,  25.,  75.],\\n        [ 75.,  75.,  25.,  25.,  25.],\\n        [ 75.,  25.,  75.,  75.,  75.]],\\n\\n       [[ 25.,  25.,  25.,  25., 100.],\\n        [ 75.,  75.,  75.,  75.,  75.],\\n        [ 25.,  75.,   0.,  75.,  75.]]])\\n'"
      ]
     },
     "execution_count": 71,
     "metadata": {},
     "output_type": "execute_result"
    }
   ],
   "source": [
    "\"\"\"\n",
    "#17. Print d and f. Do you have your expected f?\n",
    "For instance, if your d is:\n",
    "array([[[1.85836099, 1.67064465, 1.62576044, 1.40243961, 1.88454931],\n",
    "        [1.75354326, 1.69403643, 1.36729252, 1.61415071, 1.12104981],\n",
    "        [1.72201435, 1.1862918 , 1.87078449, 1.7726778 , 1.88180042]],\n",
    "\n",
    "       [[1.44747908, 1.31673383, 1.02000951, 1.52218947, 1.97066381],\n",
    "        [1.79129243, 1.74983003, 1.96028037, 1.85166831, 1.65450881],\n",
    "        [1.18068344, 1.9587381 , 1.00656599, 1.93402165, 1.73514584]]])\n",
    "\n",
    "Your f should be:\n",
    "array([[[ 75.,  75.,  75.,  25.,  75.],\n",
    "        [ 75.,  75.,  25.,  25.,  25.],\n",
    "        [ 75.,  25.,  75.,  75.,  75.]],\n",
    "\n",
    "       [[ 25.,  25.,  25.,  25., 100.],\n",
    "        [ 75.,  75.,  75.,  75.,  75.],\n",
    "        [ 25.,  75.,   0.,  75.,  75.]]])\n",
    "\"\"\"\n",
    "\n",
    "#[your code here]"
   ]
  },
  {
   "cell_type": "code",
   "execution_count": 19,
   "id": "c0e341af-d5a2-4991-95fc-c01fd70d10f8",
   "metadata": {
    "tags": []
   },
   "outputs": [
    {
     "data": {
      "text/plain": [
       "'\\n#18. Bonus question: instead of using numbers (i.e. 0, 25, 50, 75, and 100), how to use string values \\n(\"A\", \"B\", \"C\", \"D\", and \"E\") to label the array elements? You are expecting the result to be:\\narray([[[ \\'D\\',  \\'D\\',  \\'D\\',  \\'B\\',  \\'D\\'],\\n        [ \\'D\\',  \\'D\\',  \\'B\\',  \\'B\\',  \\'B\\'],\\n        [ \\'D\\',  \\'B\\',  \\'D\\',  \\'D\\',  \\'D\\']],\\n\\n       [[ \\'B\\',  \\'B\\',  \\'B\\',  \\'B\\',  \\'E\\'],\\n        [ \\'D\\',  \\'D\\',  \\'D\\',  \\'D\\',  \\'D\\'],\\n        [ \\'B\\',  \\'D\\',   \\'A\\',  \\'D\\', \\'D\\']]])\\nAgain, you don\\'t need Numpy in this question.\\n'"
      ]
     },
     "execution_count": 19,
     "metadata": {},
     "output_type": "execute_result"
    }
   ],
   "source": [
    "\"\"\"\n",
    "#18. Bonus question: instead of using numbers (i.e. 0, 25, 50, 75, and 100), how to use string values \n",
    "(\"A\", \"B\", \"C\", \"D\", and \"E\") to label the array elements? You are expecting the result to be:\n",
    "array([[[ 'D',  'D',  'D',  'B',  'D'],\n",
    "        [ 'D',  'D',  'B',  'B',  'B'],\n",
    "        [ 'D',  'B',  'D',  'D',  'D']],\n",
    "\n",
    "       [[ 'B',  'B',  'B',  'B',  'E'],\n",
    "        [ 'D',  'D',  'D',  'D',  'D'],\n",
    "        [ 'B',  'D',   'A',  'D', 'D']]])\n",
    "Again, you don't need Numpy in this question.\n",
    "\"\"\"\n",
    "\n",
    "#[your code here]"
   ]
  },
  {
   "cell_type": "code",
   "execution_count": null,
   "id": "26ee1a49-f0de-4dbe-88cf-e3474c6c1b84",
   "metadata": {
    "tags": []
   },
   "outputs": [],
   "source": []
  },
  {
   "cell_type": "code",
   "execution_count": null,
   "id": "158fab50-78f5-4b08-85b9-026194a24ca6",
   "metadata": {},
   "outputs": [],
   "source": []
  }
 ],
 "metadata": {
  "kernelspec": {
   "display_name": "Python 3 (ipykernel)",
   "language": "python",
   "name": "python3"
  },
  "language_info": {
   "codemirror_mode": {
    "name": "ipython",
    "version": 3
   },
   "file_extension": ".py",
   "mimetype": "text/x-python",
   "name": "python",
   "nbconvert_exporter": "python",
   "pygments_lexer": "ipython3",
   "version": "3.11.5"
  }
 },
 "nbformat": 4,
 "nbformat_minor": 5
}
