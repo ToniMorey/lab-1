{
 "cells": [
  {
   "cell_type": "markdown",
   "id": "7c7f48f1-3e77-4826-a9ac-eb89c22f05a6",
   "metadata": {},
   "source": [
    "# LAB 8.4"
   ]
  },
  {
   "cell_type": "markdown",
   "id": "86742361-0903-4a0d-b9fa-9d5716b111d7",
   "metadata": {},
   "source": [
    "Suppose you are working as an analyst in a microprocessor chip manufacturing plant. You have been given the task of analyzing a plasma etching process with respect to changing Power (in Watts) of the plasma beam. Data was collected and provided to you to conduct statistical analysis and check if changing the power of the plasma beam has any effect on the etching rate by the machine. You will conduct ANOVA and check if there is any difference in the mean etching rate for different levels of power. You can find the data anova_lab_data.xlsx file in the lab-8.4 folder\n",
    "\n",
    "- State the null hypothesis\n",
    "- State the alternate hypothesis\n",
    "- What is the significance level\n",
    "- What are the degrees of freedom of model, error terms, and total DoF"
   ]
  },
  {
   "cell_type": "code",
   "execution_count": 1,
   "id": "f1b70992-e9e4-405a-845f-2b3193c41128",
   "metadata": {
    "tags": []
   },
   "outputs": [],
   "source": [
    "import statsmodels.api as sm\n",
    "from statsmodels.formula.api import ols\n",
    "import pandas as pd"
   ]
  },
  {
   "cell_type": "code",
   "execution_count": 3,
   "id": "45d20854-82e7-41cc-8326-4ee640097249",
   "metadata": {
    "tags": []
   },
   "outputs": [],
   "source": [
    "data = pd.read_excel('anova_lab_data.xlsx')"
   ]
  },
  {
   "cell_type": "code",
   "execution_count": 17,
   "id": "099ac83a-15a8-49b6-8e21-c29ffee69945",
   "metadata": {
    "tags": []
   },
   "outputs": [],
   "source": [
    "data.rename(columns= {'Power ':'Power', 'Etching Rate':'Etching_rate'}, inplace = True)"
   ]
  },
  {
   "cell_type": "markdown",
   "id": "6034e3d6-f500-484d-b21a-4dcb52c35d3c",
   "metadata": {},
   "source": [
    "Tenemos diferentes Power levels: 160W - 180W - 200W.\\n\n",
    "Queremos ver si hay cambios en el Etching rate (Tasa de grabado según Google traductor)\n",
    "\n",
    "Definimos nuestras hipótesis: \n",
    "- H0 = Todas las medias son significativamente iguales\n",
    "- H1 = Almenos una media es significativamente diferente a las demás."
   ]
  },
  {
   "cell_type": "markdown",
   "id": "8988161c-ae28-4e1c-89fc-67bcd078f994",
   "metadata": {},
   "source": [
    "Nuestro alpha serà de 0.05 "
   ]
  },
  {
   "cell_type": "markdown",
   "id": "8c5ab81f-7ae2-4dad-8921-f837946f90ce",
   "metadata": {
    "tags": []
   },
   "source": [
    "**Nuestros grados de libertad son:**\n",
    "\n",
    "Model\n",
    "- a-1 = 2 \n"
   ]
  },
  {
   "cell_type": "markdown",
   "id": "cb6909b3-7bc0-4c77-a4ee-3cca2a73a730",
   "metadata": {},
   "source": [
    "Error terms: \n",
    "- N-a = 15 - 3 = 12"
   ]
  },
  {
   "cell_type": "markdown",
   "id": "75786fde-65d5-4a70-ad3d-fead235ece5f",
   "metadata": {},
   "source": [
    "Total Dof:\n",
    "- 12 + 2 = 14"
   ]
  },
  {
   "cell_type": "markdown",
   "id": "321dfd1e-5a03-4a29-816b-30e498d6f326",
   "metadata": {},
   "source": [
    "# Part 2\n",
    "\n",
    "In this section, use Python to conduct ANOVA.\n",
    "What conclusions can you draw from the experiment and why?"
   ]
  },
  {
   "cell_type": "code",
   "execution_count": 19,
   "id": "988b84bb-9665-4289-a65b-0592a18a6fff",
   "metadata": {
    "tags": []
   },
   "outputs": [
    {
     "data": {
      "text/plain": [
       "Index(['Power', 'Etching_rate'], dtype='object')"
      ]
     },
     "execution_count": 19,
     "metadata": {},
     "output_type": "execute_result"
    }
   ],
   "source": [
    "data.columns"
   ]
  },
  {
   "cell_type": "code",
   "execution_count": 21,
   "id": "61fa5e9a-bc08-4aff-ad62-dc7dc4f04504",
   "metadata": {
    "tags": []
   },
   "outputs": [
    {
     "name": "stdout",
     "output_type": "stream",
     "text": [
      "            df     sum_sq   mean_sq          F    PR(>F)\n",
      "C(Power)   2.0  18.176653  9.088327  36.878955  0.000008\n",
      "Residual  12.0   2.957240  0.246437        NaN       NaN\n"
     ]
    }
   ],
   "source": [
    "model = ols('Etching_rate ~ C(Power)',data=data).fit()\n",
    "table = sm.stats.anova_lm(model)\n",
    "print(table)"
   ]
  },
  {
   "cell_type": "markdown",
   "id": "9905fb6f-ac67-4ff7-af13-a83827cc180c",
   "metadata": {},
   "source": [
    "Observamos que el Pvalor es inferior a alpha por lo que debemos rechazar la hipótesis nula. Almenos una de las medias es significativamente diferente al resto. \n",
    "\n",
    "También podemos comprobarlo con el valor F que debería ser inferior a 3,89. Como no lo es, rechazamos la hipótesis nula."
   ]
  },
  {
   "cell_type": "code",
   "execution_count": 24,
   "id": "cb78d836-e6ff-4e68-a640-78f37d531433",
   "metadata": {
    "tags": []
   },
   "outputs": [
    {
     "data": {
      "text/plain": [
       "Power\n",
       "160 W    5.792\n",
       "180 W    6.238\n",
       "200 W    8.318\n",
       "Name: Etching_rate, dtype: float64"
      ]
     },
     "execution_count": 24,
     "metadata": {},
     "output_type": "execute_result"
    }
   ],
   "source": [
    "data.groupby('Power')['Etching_rate'].mean()"
   ]
  },
  {
   "cell_type": "markdown",
   "id": "a5e4a20e-8d8a-4982-a5b1-6eca0d73d757",
   "metadata": {},
   "source": [
    "Por los valores que nos dan las medias, podemos suponer que la de 200W difiere del resto, deberíamos comprobar si la media de 160W & 180W es significativamente diferente debido a que son más similares. "
   ]
  },
  {
   "cell_type": "code",
   "execution_count": null,
   "id": "d3eb6b4f-c0e9-4ab6-86c9-d6061679903e",
   "metadata": {},
   "outputs": [],
   "source": []
  }
 ],
 "metadata": {
  "kernelspec": {
   "display_name": "Python 3 (ipykernel)",
   "language": "python",
   "name": "python3"
  },
  "language_info": {
   "codemirror_mode": {
    "name": "ipython",
    "version": 3
   },
   "file_extension": ".py",
   "mimetype": "text/x-python",
   "name": "python",
   "nbconvert_exporter": "python",
   "pygments_lexer": "ipython3",
   "version": "3.11.5"
  }
 },
 "nbformat": 4,
 "nbformat_minor": 5
}
